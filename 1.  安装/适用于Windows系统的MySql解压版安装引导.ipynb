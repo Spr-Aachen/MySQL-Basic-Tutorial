{
 "cells": [
  {
   "attachments": {},
   "cell_type": "markdown",
   "metadata": {},
   "source": [
    "# 适用于Windows系统的MySql解压版安装引导"
   ]
  },
  {
   "attachments": {},
   "cell_type": "markdown",
   "metadata": {},
   "source": [
    "## 1. 下载"
   ]
  },
  {
   "attachments": {},
   "cell_type": "markdown",
   "metadata": {},
   "source": [
    "浏览器输入https://dev.mysql.com/downloads/mysql/，找到`Other Downloads`栏目中的Archive文件并点击下载（容量更大的那个是给开发者用的测试版）"
   ]
  },
  {
   "attachments": {},
   "cell_type": "markdown",
   "metadata": {},
   "source": [
    "![下载页](https://img-blog.csdnimg.cn/242cc1794a094b0abc8db8b2795093bc.png)"
   ]
  },
  {
   "attachments": {},
   "cell_type": "markdown",
   "metadata": {},
   "source": [
    "## 2. 解压安装"
   ]
  },
  {
   "attachments": {},
   "cell_type": "markdown",
   "metadata": {},
   "source": [
    "1. 选择路径"
   ]
  },
  {
   "cell_type": "markdown",
   "metadata": {},
   "source": [
    "将下载的ZIP压缩包解压到自己想要安装的目录，这里以D:\\work\\mysql-8.0.20为例"
   ]
  },
  {
   "attachments": {},
   "cell_type": "markdown",
   "metadata": {},
   "source": [
    "![Unzip](https://img-blog.csdnimg.cn/34aff5f094384fdeb452a70def519198.png)"
   ]
  },
  {
   "attachments": {},
   "cell_type": "markdown",
   "metadata": {},
   "source": [
    "2. 创建my.ini"
   ]
  },
  {
   "attachments": {},
   "cell_type": "markdown",
   "metadata": {},
   "source": [
    "在该目录下新建一个my.ini文件"
   ]
  },
  {
   "cell_type": "markdown",
   "metadata": {},
   "source": [
    "![](https://img-blog.csdnimg.cn/d212981c65c64bd5b537a849d094cab6.png)"
   ]
  },
  {
   "attachments": {},
   "cell_type": "markdown",
   "metadata": {},
   "source": [
    "3. 编辑my.ini"
   ]
  },
  {
   "attachments": {},
   "cell_type": "markdown",
   "metadata": {},
   "source": [
    "打开my.ini，输入以下内容"
   ]
  },
  {
   "cell_type": "raw",
   "metadata": {},
   "source": [
    "[mysql]\n",
    "# 设置mysql客户端默认字符集\n",
    "default-character-set=utf8\n",
    "[mysqld]\n",
    "# 设置3306端口（留意是否有端口冲突！）\n",
    "port = 3306\n",
    "# 设置mysql的安装目录\n",
    "basedir = D:\\\\work\\\\mysql-8.0.20\\\\\n",
    "# 设置mysql数据库的数据的存放目录\n",
    "datadir = D:\\\\work\\\\mysql-8.0.20\\\\data\n",
    "# 允许最大连接数\n",
    "max_connections=20\n",
    "# 服务端使用的字符集默认为8比特编码的latin1字符集\n",
    "character-set-server=utf8\n",
    "# 创建新表时将使用的默认存储引擎\n",
    "default-storage-engine=INNODB\n",
    "# 创建模式\n",
    "sql_mode = NO_ENGINE_SUBSTITUTION,STRICT_TRANS_TABLES"
   ]
  },
  {
   "attachments": {},
   "cell_type": "markdown",
   "metadata": {},
   "source": [
    "4. 添加环境变量"
   ]
  },
  {
   "cell_type": "markdown",
   "metadata": {},
   "source": [
    "右击我的电脑，选择属性，选择高级系统设置，选择高级下的环境变量，新增MYSQL_HOME，设置其值为刚才解压的目录 D:\\work\\mysql-8.0.20\n",
    "点击Path，选择编辑，在变量值最后加上%MYSQL_HOME%\\bin，注意上一个变量后面要加上英文分号。（这里也可以直接在Path最后面加上mysql解压文件下bin目录的路径，即D:\\work\\mysql-8.0.20\\bin）"
   ]
  },
  {
   "cell_type": "markdown",
   "metadata": {},
   "source": [
    "![](https://img-blog.csdnimg.cn/f45954566532494c8bb42de4d627c4cd.png)"
   ]
  },
  {
   "attachments": {},
   "cell_type": "markdown",
   "metadata": {},
   "source": [
    "5. 切换路径"
   ]
  },
  {
   "attachments": {},
   "cell_type": "markdown",
   "metadata": {},
   "source": [
    "使用cd命令一级级地切换到mysql的bin目录下，如下图所示"
   ]
  },
  {
   "attachments": {},
   "cell_type": "markdown",
   "metadata": {},
   "source": [
    "![]()"
   ]
  },
  {
   "attachments": {},
   "cell_type": "markdown",
   "metadata": {},
   "source": [
    "6. 安装服务"
   ]
  },
  {
   "attachments": {},
   "cell_type": "markdown",
   "metadata": {},
   "source": [
    "执行以下命令安装MYSQL服务"
   ]
  },
  {
   "cell_type": "code",
   "execution_count": null,
   "metadata": {
    "vscode": {
     "languageId": "powershell"
    }
   },
   "outputs": [],
   "source": [
    "mysqld -install"
   ]
  },
  {
   "attachments": {},
   "cell_type": "markdown",
   "metadata": {},
   "source": [
    "![](https://img-blog.csdnimg.cn/8119446f068547d6b0a382d53dd10876.png)"
   ]
  },
  {
   "attachments": {},
   "cell_type": "markdown",
   "metadata": {},
   "source": [
    "7. 初始化数据库"
   ]
  },
  {
   "cell_type": "markdown",
   "metadata": {},
   "source": [
    "执行以下命令初始化MYSQL服务"
   ]
  },
  {
   "cell_type": "code",
   "execution_count": null,
   "metadata": {
    "vscode": {
     "languageId": "powershell"
    }
   },
   "outputs": [],
   "source": [
    "mysqld --initialize --user=mysql"
   ]
  },
  {
   "cell_type": "markdown",
   "metadata": {},
   "source": [
    "![](https://img-blog.csdnimg.cn/3041f4eafe964e7a8576b42e2fe29b6e.png)"
   ]
  },
  {
   "attachments": {},
   "cell_type": "markdown",
   "metadata": {},
   "source": [
    "检查此时MySQL目录下是否有生成data文件夹"
   ]
  },
  {
   "cell_type": "markdown",
   "metadata": {},
   "source": [
    "![](https://img-blog.csdnimg.cn/a42cf274824746a9b7151bd7b62696ab.png)"
   ]
  },
  {
   "cell_type": "markdown",
   "metadata": {},
   "source": [
    "若未生成data文件夹，则输入下面这个命令"
   ]
  },
  {
   "cell_type": "code",
   "execution_count": null,
   "metadata": {
    "vscode": {
     "languageId": "powershell"
    }
   },
   "outputs": [],
   "source": [
    "mysqld --no-defaults --initialize --user=mysql"
   ]
  },
  {
   "attachments": {},
   "cell_type": "markdown",
   "metadata": {},
   "source": [
    "8. 启动服务"
   ]
  },
  {
   "attachments": {},
   "cell_type": "markdown",
   "metadata": {},
   "source": [
    "在命令行窗口输入以下命令（mysql8.0是上面设置的服务名，如果没设置就输入mysql）"
   ]
  },
  {
   "cell_type": "code",
   "execution_count": null,
   "metadata": {
    "vscode": {
     "languageId": "powershell"
    }
   },
   "outputs": [],
   "source": [
    "net start mysql8.0"
   ]
  },
  {
   "attachments": {},
   "cell_type": "markdown",
   "metadata": {},
   "source": [
    "![](https://img-blog.csdnimg.cn/7b829247dc624155a73f09ca257a5e63.png)"
   ]
  },
  {
   "attachments": {},
   "cell_type": "markdown",
   "metadata": {},
   "source": [
    "9. 获取root密码"
   ]
  },
  {
   "attachments": {},
   "cell_type": "markdown",
   "metadata": {},
   "source": [
    "进入MySQL的data目录，找到以err为后缀名的文件"
   ]
  },
  {
   "attachments": {},
   "cell_type": "markdown",
   "metadata": {},
   "source": [
    "![](https://img-blog.csdnimg.cn/e223cd4dcd6e451ea898d38b085db829.png)"
   ]
  },
  {
   "attachments": {},
   "cell_type": "markdown",
   "metadata": {},
   "source": [
    "使用文本编辑器打开，搜索（CTRL+F）password，找到下图这一行，并复制密码"
   ]
  },
  {
   "attachments": {},
   "cell_type": "markdown",
   "metadata": {},
   "source": [
    "![](https://img-blog.csdnimg.cn/d6106681a24a41798a7e2f1ed262e2df.png)"
   ]
  },
  {
   "attachments": {},
   "cell_type": "markdown",
   "metadata": {},
   "source": [
    "10. 连接数据库"
   ]
  },
  {
   "attachments": {},
   "cell_type": "markdown",
   "metadata": {},
   "source": [
    "在命令行输入以下命令，之后按下Enter"
   ]
  },
  {
   "cell_type": "code",
   "execution_count": null,
   "metadata": {
    "vscode": {
     "languageId": "powershell"
    }
   },
   "outputs": [],
   "source": [
    "mysql -u root -p"
   ]
  },
  {
   "attachments": {},
   "cell_type": "markdown",
   "metadata": {},
   "source": [
    "在Enter password处右击鼠标以将复制的密码粘贴在此处，再次按下Enter即可连接数据库，当最下一行变成mysql>，则说明连接成功"
   ]
  },
  {
   "cell_type": "markdown",
   "metadata": {},
   "source": [
    "![](https://img-blog.csdnimg.cn/d2f59bbbf9b14658970afbcb5034c3bf.png)"
   ]
  },
  {
   "attachments": {},
   "cell_type": "markdown",
   "metadata": {},
   "source": [
    "10. 修改root密码"
   ]
  },
  {
   "attachments": {},
   "cell_type": "markdown",
   "metadata": {},
   "source": [
    "这里将root密码修改为123456，在命令行mysql>后输入以下命令"
   ]
  },
  {
   "cell_type": "code",
   "execution_count": null,
   "metadata": {
    "vscode": {
     "languageId": "powershell"
    }
   },
   "outputs": [],
   "source": [
    "ALTER USER 'root'@'localhost' IDENTIFIED WITH mysql_native_password BY '123456';"
   ]
  },
  {
   "attachments": {},
   "cell_type": "markdown",
   "metadata": {},
   "source": [
    "![](https://img-blog.csdnimg.cn/081ffde7df874ee2940528c48c8fae2a.png)"
   ]
  },
  {
   "cell_type": "markdown",
   "metadata": {},
   "source": [
    "11. 刷新权限"
   ]
  },
  {
   "cell_type": "markdown",
   "metadata": {},
   "source": [
    "修改密码成功后输入以下命令"
   ]
  },
  {
   "cell_type": "code",
   "execution_count": null,
   "metadata": {
    "vscode": {
     "languageId": "powershell"
    }
   },
   "outputs": [],
   "source": [
    "flush privileges;"
   ]
  },
  {
   "attachments": {},
   "cell_type": "markdown",
   "metadata": {},
   "source": [
    "![](https://img-blog.csdnimg.cn/fb967fcb49d14b8eb3091ea6132753fb.png)"
   ]
  },
  {
   "cell_type": "markdown",
   "metadata": {},
   "source": [
    "12. 退出MySQL"
   ]
  },
  {
   "cell_type": "markdown",
   "metadata": {},
   "source": [
    "在mysql>后输入以下命令"
   ]
  },
  {
   "cell_type": "code",
   "execution_count": null,
   "metadata": {
    "vscode": {
     "languageId": "powershell"
    }
   },
   "outputs": [],
   "source": [
    "exit;"
   ]
  },
  {
   "cell_type": "markdown",
   "metadata": {},
   "source": [
    "![](https://img-blog.csdnimg.cn/82b6f5578a7e4c09b7733ba332039bea.png)"
   ]
  },
  {
   "attachments": {},
   "cell_type": "markdown",
   "metadata": {},
   "source": [
    "也可以先停止服务（mysql8.0是上面设置的服务名，如果没设置就输入mysql）"
   ]
  },
  {
   "cell_type": "code",
   "execution_count": null,
   "metadata": {
    "vscode": {
     "languageId": "powershell"
    }
   },
   "outputs": [],
   "source": [
    "net stop mysql8.0"
   ]
  }
 ],
 "metadata": {
  "kernelspec": {
   "display_name": "Python 3",
   "language": "python",
   "name": "python3"
  },
  "language_info": {
   "name": "python",
   "version": "3.7.9 (tags/v3.7.9:13c94747c7, Aug 17 2020, 18:58:18) [MSC v.1900 64 bit (AMD64)]"
  },
  "orig_nbformat": 4,
  "vscode": {
   "interpreter": {
    "hash": "83d7661a84453ad3be1a4e16618ae38a5d7b24bd6946f8a0c99b445e0503789d"
   }
  }
 },
 "nbformat": 4,
 "nbformat_minor": 2
}
